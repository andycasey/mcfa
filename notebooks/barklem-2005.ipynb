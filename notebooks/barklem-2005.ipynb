{
 "cells": [
  {
   "cell_type": "code",
   "execution_count": 1,
   "metadata": {
    "collapsed": true
   },
   "outputs": [],
   "source": [
    "import matplotlib.pyplot as plt\n",
    "import matplotlib\n",
    "import logging as logger\n",
    "import numpy as np\n",
    "import os\n",
    "import sys\n",
    "from astropy.table import Table\n",
    "from time import time\n",
    "from collections import OrderedDict\n",
    "\n",
    "sys.path.insert(0, \"../\")\n",
    "\n",
    "from mcfa.mcfa import MCFA\n",
    "\n",
    "%matplotlib inline"
   ]
  },
  {
   "cell_type": "code",
   "execution_count": 2,
   "metadata": {},
   "outputs": [],
   "source": [
    "barklem_abundances = Table.read(\"../catalogs/barklem_t3.fits\")\n"
   ]
  },
  {
   "cell_type": "code",
   "execution_count": 3,
   "metadata": {},
   "outputs": [
    {
     "data": {
      "text/html": [
       "&lt;Table length=5566&gt;\n",
       "<table id=\"table4495287688\" class=\"table-striped table-bordered table-condensed\">\n",
       "<thead><tr><th>Name</th><th>El</th><th>logEpsX</th><th>e_logEpsX</th><th>e_logepsx_lc</th><th>__X_Fe_</th><th>e__X_Fe_</th><th>e__x_fe__lc</th><th>N</th><th>N3</th></tr></thead>\n",
       "<thead><tr><th></th><th></th><th>[---]</th><th>[---]</th><th>[---]</th><th>[---]</th><th>[---]</th><th>[---]</th><th></th><th></th></tr></thead>\n",
       "<thead><tr><th>str13</th><th>str2</th><th>float32</th><th>float32</th><th>float32</th><th>float32</th><th>float32</th><th>float32</th><th>int16</th><th>int16</th></tr></thead>\n",
       "<tr><td>CS 22175-007</td><td>Al</td><td>2.54</td><td>0.17</td><td>0.25</td><td>-1.12</td><td>0.18</td><td>0.26</td><td>1</td><td>1</td></tr>\n",
       "<tr><td>CS 22175-007</td><td>Ba</td><td>-1.15</td><td>0.21</td><td>0.25</td><td>-0.47</td><td>0.18</td><td>0.26</td><td>2</td><td>1</td></tr>\n",
       "<tr><td>CS 22175-007</td><td>C</td><td>5.77</td><td>0.19</td><td>0.26</td><td>0.19</td><td>0.18</td><td>0.27</td><td>1</td><td>1</td></tr>\n",
       "<tr><td>CS 22175-007</td><td>Ca</td><td>3.87</td><td>0.12</td><td>0.2</td><td>0.31</td><td>0.15</td><td>0.25</td><td>9</td><td>5</td></tr>\n",
       "<tr><td>CS 22175-007</td><td>Ce</td><td>nan</td><td>nan</td><td>nan</td><td>nan</td><td>nan</td><td>nan</td><td>10</td><td>0</td></tr>\n",
       "<tr><td>CS 22175-007</td><td>Co</td><td>2.35</td><td>0.15</td><td>0.22</td><td>0.24</td><td>0.15</td><td>0.24</td><td>6</td><td>4</td></tr>\n",
       "<tr><td>CS 22175-007</td><td>Cr</td><td>2.52</td><td>0.17</td><td>0.24</td><td>-0.35</td><td>0.16</td><td>0.24</td><td>3</td><td>3</td></tr>\n",
       "<tr><td>CS 22175-007</td><td>Eu</td><td>nan</td><td>nan</td><td>nan</td><td>nan</td><td>nan</td><td>nan</td><td>4</td><td>0</td></tr>\n",
       "<tr><td>CS 22175-007</td><td>Fe</td><td>4.69</td><td>0.13</td><td>0.18</td><td>0.0</td><td>0.14</td><td>0.22</td><td>55</td><td>35</td></tr>\n",
       "<tr><td>...</td><td>...</td><td>...</td><td>...</td><td>...</td><td>...</td><td>...</td><td>...</td><td>...</td><td>...</td></tr>\n",
       "<tr><td>HE 2347-1448</td><td>Nd</td><td>nan</td><td>nan</td><td>nan</td><td>nan</td><td>nan</td><td>nan</td><td>9</td><td>0</td></tr>\n",
       "<tr><td>HE 2347-1448</td><td>Ni</td><td>4.21</td><td>0.21</td><td>0.27</td><td>0.27</td><td>0.21</td><td>0.27</td><td>4</td><td>2</td></tr>\n",
       "<tr><td>HE 2347-1448</td><td>Sc</td><td>0.93</td><td>0.18</td><td>0.23</td><td>0.07</td><td>0.18</td><td>0.27</td><td>5</td><td>2</td></tr>\n",
       "<tr><td>HE 2347-1448</td><td>Sm</td><td>nan</td><td>nan</td><td>nan</td><td>nan</td><td>nan</td><td>nan</td><td>8</td><td>0</td></tr>\n",
       "<tr><td>HE 2347-1448</td><td>Sr</td><td>0.74</td><td>0.2</td><td>0.29</td><td>0.08</td><td>0.2</td><td>0.29</td><td>3</td><td>2</td></tr>\n",
       "<tr><td>HE 2347-1448</td><td>Ti</td><td>3.01</td><td>0.16</td><td>0.21</td><td>0.31</td><td>0.16</td><td>0.25</td><td>17</td><td>5</td></tr>\n",
       "<tr><td>HE 2347-1448</td><td>V</td><td>nan</td><td>nan</td><td>nan</td><td>nan</td><td>nan</td><td>nan</td><td>3</td><td>0</td></tr>\n",
       "<tr><td>HE 2347-1448</td><td>Y</td><td>nan</td><td>nan</td><td>nan</td><td>nan</td><td>nan</td><td>nan</td><td>6</td><td>0</td></tr>\n",
       "<tr><td>HE 2347-1448</td><td>Zn</td><td>nan</td><td>nan</td><td>nan</td><td>nan</td><td>nan</td><td>nan</td><td>2</td><td>0</td></tr>\n",
       "<tr><td>HE 2347-1448</td><td>Zr</td><td>nan</td><td>nan</td><td>nan</td><td>nan</td><td>nan</td><td>nan</td><td>3</td><td>0</td></tr>\n",
       "</table>"
      ],
      "text/plain": [
       "<Table length=5566>\n",
       "     Name      El  logEpsX e_logEpsX ... e__X_Fe_ e__x_fe__lc   N     N3 \n",
       "                    [---]    [---]   ...  [---]      [---]               \n",
       "    str13     str2 float32  float32  ... float32    float32   int16 int16\n",
       "------------- ---- ------- --------- ... -------- ----------- ----- -----\n",
       "CS 22175-007    Al    2.54      0.17 ...     0.18        0.26     1     1\n",
       "CS 22175-007    Ba   -1.15      0.21 ...     0.18        0.26     2     1\n",
       "CS 22175-007    C     5.77      0.19 ...     0.18        0.27     1     1\n",
       "CS 22175-007    Ca    3.87      0.12 ...     0.15        0.25     9     5\n",
       "CS 22175-007    Ce     nan       nan ...      nan         nan    10     0\n",
       "CS 22175-007    Co    2.35      0.15 ...     0.15        0.24     6     4\n",
       "CS 22175-007    Cr    2.52      0.17 ...     0.16        0.24     3     3\n",
       "CS 22175-007    Eu     nan       nan ...      nan         nan     4     0\n",
       "CS 22175-007    Fe    4.69      0.13 ...     0.14        0.22    55    35\n",
       "          ...  ...     ...       ... ...      ...         ...   ...   ...\n",
       "HE 2347-1448    Nd     nan       nan ...      nan         nan     9     0\n",
       "HE 2347-1448    Ni    4.21      0.21 ...     0.21        0.27     4     2\n",
       "HE 2347-1448    Sc    0.93      0.18 ...     0.18        0.27     5     2\n",
       "HE 2347-1448    Sm     nan       nan ...      nan         nan     8     0\n",
       "HE 2347-1448    Sr    0.74       0.2 ...      0.2        0.29     3     2\n",
       "HE 2347-1448    Ti    3.01      0.16 ...     0.16        0.25    17     5\n",
       "HE 2347-1448    V      nan       nan ...      nan         nan     3     0\n",
       "HE 2347-1448    Y      nan       nan ...      nan         nan     6     0\n",
       "HE 2347-1448    Zn     nan       nan ...      nan         nan     2     0\n",
       "HE 2347-1448    Zr     nan       nan ...      nan         nan     3     0"
      ]
     },
     "execution_count": 3,
     "metadata": {},
     "output_type": "execute_result"
    }
   ],
   "source": [
    "barklem_abundances"
   ]
  },
  {
   "cell_type": "code",
   "execution_count": 4,
   "metadata": {
    "collapsed": true
   },
   "outputs": [],
   "source": [
    "# Solar abundances.\n",
    "asplund_2009 = {\n",
    "    \"Pr\": 0.72, \n",
    "    \"Ni\": 6.22, \n",
    "    \"Gd\": 1.07, \n",
    "    \"Pd\": 1.57, \n",
    "    \"Pt\": 1.62, \n",
    "    \"Ru\": 1.75, \n",
    "    \"S\": 7.12, \n",
    "    \"Na\": 6.24, \n",
    "    \"Nb\": 1.46, \n",
    "    \"Nd\": 1.42, \n",
    "    \"Mg\": 7.6, \n",
    "    \"Li\": 1.05, \n",
    "    \"Pb\": 1.75, \n",
    "    \"Re\": 0.26, \n",
    "    \"Tl\": 0.9, \n",
    "    \"Tm\": 0.1, \n",
    "    \"Rb\": 2.52, \n",
    "    \"Ti\": 4.95, \n",
    "    \"As\": 2.3, \n",
    "    \"Te\": 2.18, \n",
    "    \"Rh\": 0.91, \n",
    "    \"Ta\": -0.12, \n",
    "    \"Be\": 1.38, \n",
    "    \"Xe\": 2.24, \n",
    "    \"Ba\": 2.18, \n",
    "    \"Tb\": 0.3, \n",
    "    \"H\": 12.0, \n",
    "    \"Yb\": 0.84, \n",
    "    \"Bi\": 0.65, \n",
    "    \"W\": 0.85, \n",
    "    \"Ar\": 6.4, \n",
    "    \"Fe\": 7.5, \n",
    "    \"Br\": 2.54, \n",
    "    \"Dy\": 1.1, \n",
    "    \"Hf\": 0.85, \n",
    "    \"Mo\": 1.88, \n",
    "    \"He\": 10.93, \n",
    "    \"Cl\": 5.5, \n",
    "    \"C\": 8.43, \n",
    "    \"B\": 2.7, \n",
    "    \"F\": 4.56, \n",
    "    \"I\": 1.55, \n",
    "    \"Sr\": 2.87, \n",
    "    \"K\": 5.03, \n",
    "    \"Mn\": 5.43, \n",
    "    \"O\": 8.69, \n",
    "    \"Ne\": 7.93, \n",
    "    \"P\": 5.41, \n",
    "    \"Si\": 7.51, \n",
    "    \"Th\": 0.02, \n",
    "    \"U\": -0.54, \n",
    "    \"Sn\": 2.04, \n",
    "    \"Sm\": 0.96, \n",
    "    \"V\": 3.93, \n",
    "    \"Y\": 2.21, \n",
    "    \"Sb\": 1.01, \n",
    "    \"N\": 7.83, \n",
    "    \"Os\": 1.4, \n",
    "    \"Se\": 3.34, \n",
    "    \"Sc\": 3.15, \n",
    "    \"Hg\": 1.17, \n",
    "    \"Zn\": 4.56, \n",
    "    \"La\": 1.1, \n",
    "    \"Ag\": 0.94, \n",
    "    \"Kr\": 3.25, \n",
    "    \"Co\": 4.99, \n",
    "    \"Ca\": 6.34, \n",
    "    \"Ir\": 1.38, \n",
    "    \"Eu\": 0.52, \n",
    "    \"Al\": 6.45, \n",
    "    \"Ce\": 1.58, \n",
    "    \"Cd\": 1.71, \n",
    "    \"Ho\": 0.48, \n",
    "    \"Ge\": 3.65, \n",
    "    \"Lu\": 0.1, \n",
    "    \"Au\": 0.92, \n",
    "    \"Zr\": 2.58, \n",
    "    \"Ga\": 3.04, \n",
    "    \"In\": 0.8, \n",
    "    \"Cs\": 1.08, \n",
    "    \"Cr\": 5.64, \n",
    "    \"Cu\": 4.19, \n",
    "    \"Er\": 0.92\n",
    "}\n",
    "solar_abundance = asplund_2009"
   ]
  },
  {
   "cell_type": "code",
   "execution_count": 5,
   "metadata": {
    "collapsed": true
   },
   "outputs": [],
   "source": [
    "def atomic_number(element):\n",
    "    periodic_table = \"\"\"H                                                  He\n",
    "                        Li Be                               B  C  N  O  F  Ne\n",
    "                        Na Mg                               Al Si P  S  Cl Ar\n",
    "                        K  Ca Sc Ti V  Cr Mn Fe Co Ni Cu Zn Ga Ge As Se Br Kr\n",
    "                        Rb Sr Y  Zr Nb Mo Tc Ru Rh Pd Ag Cd In Sn Sb Te I  Xe\n",
    "                        Cs Ba Lu Hf Ta W  Re Os Ir Pt Au Hg Tl Pb Bi Po At Rn\n",
    "                        Fr Ra Lr Rf Db Sg Bh Hs Mt Ds Rg Cn UUt\"\"\"\n",
    "    \n",
    "    lanthanoids    =   \"La Ce Pr Nd Pm Sm Eu Gd Tb Dy Ho Er Tm Yb\"\n",
    "    actinoids      =   \"Ac Th Pa U  Np Pu Am Cm Bk Cf Es Fm Md No\"\n",
    "    \n",
    "    periodic_table = periodic_table.replace(\" Ba \", \" Ba \" + lanthanoids + \" \") \\\n",
    "        .replace(\" Ra \", \" Ra \" + actinoids + \" \").split()\n",
    "    \n",
    "    return periodic_table.index(element.strip().title()) - 1\n"
   ]
  },
  {
   "cell_type": "code",
   "execution_count": 6,
   "metadata": {
    "collapsed": true
   },
   "outputs": [],
   "source": [
    "# Re-structure the data.\n",
    "def restructure_barklem_data(data):\n",
    "    \n",
    "    parse_element = lambda x: x.strip().lower()\n",
    "    \n",
    "    unique_names = np.sort(np.unique(data[\"Name\"]))\n",
    "    unique_elements = np.sort(np.unique([parse_element(el) for el in data[\"El\"]]))\n",
    "    N, E = len(unique_names), len(unique_elements)\n",
    "    \n",
    "    restructured_data = OrderedDict(name=unique_names)\n",
    "    for element in unique_elements:\n",
    "        restructured_data.setdefault(f\"{element}_h\", np.nan * np.ones(N))\n",
    "        restructured_data.setdefault(f\"{element}_h_err_rel\", np.nan * np.ones(N))\n",
    "        restructured_data.setdefault(f\"{element}_h_err_abs\", np.nan * np.ones(N))\n",
    "\n",
    "    for group in data.group_by(\"Name\").groups:\n",
    "        index = np.where(group[\"Name\"][0] == unique_names)[0][0]\n",
    "        for row in group:\n",
    "            element = parse_element(row[\"El\"])\n",
    "            restructured_data[f\"{element}_h\"][index] = row[\"logEpsX\"] - solar_abundance[row[\"El\"].strip()]\n",
    "            restructured_data[f\"{element}_h_err_rel\"][index] = row[\"e_logEpsX\"]\n",
    "            restructured_data[f\"{element}_h_err_abs\"][index] = row[\"e_logepsx_lc\"]\n",
    "    \n",
    "    return Table(data=restructured_data)\n",
    "        "
   ]
  },
  {
   "cell_type": "code",
   "execution_count": 7,
   "metadata": {
    "collapsed": true
   },
   "outputs": [],
   "source": [
    "data = restructure_barklem_data(barklem_abundances)"
   ]
  },
  {
   "cell_type": "code",
   "execution_count": 8,
   "metadata": {},
   "outputs": [
    {
     "data": {
      "text/html": [
       "&lt;Table length=253&gt;\n",
       "<table id=\"table4493346296\" class=\"table-striped table-bordered table-condensed\">\n",
       "<thead><tr><th>name</th><th>al_h</th><th>al_h_err_rel</th><th>al_h_err_abs</th><th>ba_h</th><th>ba_h_err_rel</th><th>ba_h_err_abs</th><th>c_h</th><th>c_h_err_rel</th><th>c_h_err_abs</th><th>ca_h</th><th>ca_h_err_rel</th><th>ca_h_err_abs</th><th>ce_h</th><th>ce_h_err_rel</th><th>ce_h_err_abs</th><th>co_h</th><th>co_h_err_rel</th><th>co_h_err_abs</th><th>cr_h</th><th>cr_h_err_rel</th><th>cr_h_err_abs</th><th>eu_h</th><th>eu_h_err_rel</th><th>eu_h_err_abs</th><th>fe_h</th><th>fe_h_err_rel</th><th>fe_h_err_abs</th><th>la_h</th><th>la_h_err_rel</th><th>la_h_err_abs</th><th>mg_h</th><th>mg_h_err_rel</th><th>mg_h_err_abs</th><th>mn_h</th><th>mn_h_err_rel</th><th>mn_h_err_abs</th><th>nd_h</th><th>nd_h_err_rel</th><th>nd_h_err_abs</th><th>ni_h</th><th>ni_h_err_rel</th><th>ni_h_err_abs</th><th>sc_h</th><th>sc_h_err_rel</th><th>sc_h_err_abs</th><th>sm_h</th><th>sm_h_err_rel</th><th>sm_h_err_abs</th><th>sr_h</th><th>sr_h_err_rel</th><th>sr_h_err_abs</th><th>ti_h</th><th>ti_h_err_rel</th><th>ti_h_err_abs</th><th>v_h</th><th>v_h_err_rel</th><th>v_h_err_abs</th><th>y_h</th><th>y_h_err_rel</th><th>y_h_err_abs</th><th>zn_h</th><th>zn_h_err_rel</th><th>zn_h_err_abs</th><th>zr_h</th><th>zr_h_err_rel</th><th>zr_h_err_abs</th></tr></thead>\n",
       "<thead><tr><th>str13</th><th>float64</th><th>float64</th><th>float64</th><th>float64</th><th>float64</th><th>float64</th><th>float64</th><th>float64</th><th>float64</th><th>float64</th><th>float64</th><th>float64</th><th>float64</th><th>float64</th><th>float64</th><th>float64</th><th>float64</th><th>float64</th><th>float64</th><th>float64</th><th>float64</th><th>float64</th><th>float64</th><th>float64</th><th>float64</th><th>float64</th><th>float64</th><th>float64</th><th>float64</th><th>float64</th><th>float64</th><th>float64</th><th>float64</th><th>float64</th><th>float64</th><th>float64</th><th>float64</th><th>float64</th><th>float64</th><th>float64</th><th>float64</th><th>float64</th><th>float64</th><th>float64</th><th>float64</th><th>float64</th><th>float64</th><th>float64</th><th>float64</th><th>float64</th><th>float64</th><th>float64</th><th>float64</th><th>float64</th><th>float64</th><th>float64</th><th>float64</th><th>float64</th><th>float64</th><th>float64</th><th>float64</th><th>float64</th><th>float64</th><th>float64</th><th>float64</th><th>float64</th></tr></thead>\n",
       "<tr><td>CS 22175-007</td><td>-3.91000003815</td><td>0.170000001788</td><td>0.25</td><td>-3.32999997616</td><td>0.209999993443</td><td>0.25</td><td>-2.66000001907</td><td>0.189999997616</td><td>0.259999990463</td><td>-2.47000011444</td><td>0.119999997318</td><td>0.20000000298</td><td>nan</td><td>nan</td><td>nan</td><td>-2.64000009537</td><td>0.15000000596</td><td>0.219999998808</td><td>-3.12000001907</td><td>0.170000001788</td><td>0.239999994636</td><td>nan</td><td>nan</td><td>nan</td><td>-2.80999994278</td><td>0.129999995232</td><td>0.180000007153</td><td>nan</td><td>nan</td><td>nan</td><td>-2.44999990463</td><td>0.119999997318</td><td>0.180000007153</td><td>-3.58999996662</td><td>0.170000001788</td><td>0.219999998808</td><td>nan</td><td>nan</td><td>nan</td><td>-2.51999995232</td><td>0.20000000298</td><td>0.300000011921</td><td>-2.65999999046</td><td>0.180000007153</td><td>0.230000004172</td><td>nan</td><td>nan</td><td>nan</td><td>-2.53999998689</td><td>0.20000000298</td><td>0.300000011921</td><td>-2.39000005722</td><td>0.170000001788</td><td>0.219999998808</td><td>nan</td><td>nan</td><td>nan</td><td>nan</td><td>nan</td><td>nan</td><td>nan</td><td>nan</td><td>nan</td><td>nan</td><td>nan</td><td>nan</td></tr>\n",
       "<tr><td>CS 22186-023</td><td>-3.67000002861</td><td>0.15000000596</td><td>0.239999994636</td><td>-3.69999998093</td><td>0.189999997616</td><td>0.230000004172</td><td>-2.46000020981</td><td>0.189999997616</td><td>0.25</td><td>-2.57000001907</td><td>0.119999997318</td><td>0.20000000298</td><td>nan</td><td>nan</td><td>nan</td><td>-2.66000007629</td><td>0.159999996424</td><td>0.219999998808</td><td>-2.95999993324</td><td>0.159999996424</td><td>0.25</td><td>nan</td><td>nan</td><td>nan</td><td>-2.71999979019</td><td>0.129999995232</td><td>0.180000007153</td><td>nan</td><td>nan</td><td>nan</td><td>-2.61000022888</td><td>0.119999997318</td><td>0.180000007153</td><td>-3.16000001907</td><td>0.15000000596</td><td>0.209999993443</td><td>nan</td><td>nan</td><td>nan</td><td>-2.66000005722</td><td>0.170000001788</td><td>0.280000001192</td><td>-2.68999999166</td><td>0.170000001788</td><td>0.230000004172</td><td>nan</td><td>nan</td><td>nan</td><td>-2.76999999851</td><td>0.189999997616</td><td>0.300000011921</td><td>-2.50999994278</td><td>0.159999996424</td><td>0.209999993443</td><td>nan</td><td>nan</td><td>nan</td><td>-3.09999998569</td><td>0.180000007153</td><td>0.230000004172</td><td>nan</td><td>nan</td><td>nan</td><td>nan</td><td>nan</td><td>nan</td></tr>\n",
       "<tr><td>CS 22186-025</td><td>-3.85000009537</td><td>0.209999993443</td><td>0.270000010729</td><td>-2.76999997377</td><td>0.239999994636</td><td>0.310000002384</td><td>-3.60000007629</td><td>0.20000000298</td><td>0.270000010729</td><td>-2.59</td><td>0.119999997318</td><td>0.20000000298</td><td>nan</td><td>nan</td><td>nan</td><td>-2.73000000954</td><td>0.15000000596</td><td>0.219999998808</td><td>-3.29000009537</td><td>0.159999996424</td><td>0.230000004172</td><td>nan</td><td>nan</td><td>nan</td><td>-2.86999988556</td><td>0.140000000596</td><td>0.189999997616</td><td>nan</td><td>nan</td><td>nan</td><td>-2.61000022888</td><td>0.119999997318</td><td>0.180000007153</td><td>-3.57999997616</td><td>0.159999996424</td><td>0.209999993443</td><td>nan</td><td>nan</td><td>nan</td><td>-3.10000011444</td><td>0.189999997616</td><td>0.25</td><td>-2.71000000238</td><td>0.180000007153</td><td>0.230000004172</td><td>nan</td><td>nan</td><td>nan</td><td>-3.07000000298</td><td>0.25</td><td>0.34999999404</td><td>-2.54999990463</td><td>0.15000000596</td><td>0.20000000298</td><td>nan</td><td>nan</td><td>nan</td><td>nan</td><td>nan</td><td>nan</td><td>nan</td><td>nan</td><td>nan</td><td>nan</td><td>nan</td><td>nan</td></tr>\n",
       "<tr><td>CS 22886-042</td><td>-3.74999995232</td><td>0.170000001788</td><td>0.259999990463</td><td>-2.85000001669</td><td>0.239999994636</td><td>0.310000002384</td><td>-2.71000020981</td><td>0.189999997616</td><td>0.259999990463</td><td>-2.43999990463</td><td>0.119999997318</td><td>0.20000000298</td><td>nan</td><td>nan</td><td>nan</td><td>-2.65000008583</td><td>0.140000000596</td><td>0.209999993443</td><td>-2.9999998951</td><td>0.170000001788</td><td>0.259999990463</td><td>nan</td><td>nan</td><td>nan</td><td>-2.67999982834</td><td>0.119999997318</td><td>0.180000007153</td><td>nan</td><td>nan</td><td>nan</td><td>-2.46999988556</td><td>0.119999997318</td><td>0.180000007153</td><td>-3.22999995232</td><td>0.15000000596</td><td>0.209999993443</td><td>nan</td><td>nan</td><td>nan</td><td>-2.75999996185</td><td>0.189999997616</td><td>0.280000001192</td><td>-2.65</td><td>0.170000001788</td><td>0.230000004172</td><td>nan</td><td>nan</td><td>nan</td><td>-2.74000000477</td><td>0.20000000298</td><td>0.300000011921</td><td>-2.45</td><td>0.159999996424</td><td>0.209999993443</td><td>nan</td><td>nan</td><td>nan</td><td>-2.89000000715</td><td>0.180000007153</td><td>0.230000004172</td><td>nan</td><td>nan</td><td>nan</td><td>nan</td><td>nan</td><td>nan</td></tr>\n",
       "<tr><td>CS 22892-052</td><td>-3.66000003815</td><td>0.159999996424</td><td>0.259999990463</td><td>-1.80999999523</td><td>0.159999996424</td><td>0.209999993443</td><td>-1.98999994278</td><td>0.189999997616</td><td>0.259999990463</td><td>-2.70999988556</td><td>0.119999997318</td><td>0.20000000298</td><td>nan</td><td>nan</td><td>nan</td><td>-2.99999999046</td><td>0.15000000596</td><td>0.219999998808</td><td>-3.39</td><td>0.170000001788</td><td>0.25</td><td>-1.41999997616</td><td>0.180000007153</td><td>0.230000004172</td><td>-2.94999980927</td><td>0.140000000596</td><td>0.189999997616</td><td>-1.85999999046</td><td>0.180000007153</td><td>0.230000004172</td><td>-2.85</td><td>0.129999995232</td><td>0.189999997616</td><td>-3.66000001907</td><td>0.119999997318</td><td>0.20000000298</td><td>-1.73000000238</td><td>0.189999997616</td><td>0.230000004172</td><td>-2.8299998951</td><td>0.20000000298</td><td>0.289999991655</td><td>-2.94999999702</td><td>0.170000001788</td><td>0.219999998808</td><td>nan</td><td>nan</td><td>nan</td><td>-2.24000000477</td><td>0.159999996424</td><td>0.230000004172</td><td>-2.83000011444</td><td>0.15000000596</td><td>0.20000000298</td><td>nan</td><td>nan</td><td>nan</td><td>-2.46999999046</td><td>0.180000007153</td><td>0.230000004172</td><td>nan</td><td>nan</td><td>nan</td><td>nan</td><td>nan</td><td>nan</td></tr>\n",
       "<tr><td>CS 22945-028</td><td>-3.62000007629</td><td>0.180000007153</td><td>0.259999990463</td><td>-2.84000002623</td><td>0.230000004172</td><td>0.280000001192</td><td>-2.50000017166</td><td>0.189999997616</td><td>0.259999990463</td><td>-2.30999979019</td><td>0.109999999404</td><td>0.20000000298</td><td>nan</td><td>nan</td><td>nan</td><td>-2.5999998951</td><td>0.159999996424</td><td>0.219999998808</td><td>-2.87000001907</td><td>0.180000007153</td><td>0.259999990463</td><td>nan</td><td>nan</td><td>nan</td><td>-2.65999984741</td><td>0.129999995232</td><td>0.180000007153</td><td>nan</td><td>nan</td><td>nan</td><td>-2.36000022888</td><td>0.129999995232</td><td>0.180000007153</td><td>-3.24999993324</td><td>0.180000007153</td><td>0.230000004172</td><td>nan</td><td>nan</td><td>nan</td><td>-2.6100001049</td><td>0.219999998808</td><td>0.300000011921</td><td>-2.68000000119</td><td>0.180000007153</td><td>0.230000004172</td><td>nan</td><td>nan</td><td>nan</td><td>-2.49999999523</td><td>0.209999993443</td><td>0.300000011921</td><td>-2.38000006676</td><td>0.159999996424</td><td>0.209999993443</td><td>nan</td><td>nan</td><td>nan</td><td>nan</td><td>nan</td><td>nan</td><td>nan</td><td>nan</td><td>nan</td><td>nan</td><td>nan</td><td>nan</td></tr>\n",
       "<tr><td>CS 22957-013</td><td>-3.5599998951</td><td>0.20000000298</td><td>0.259999990463</td><td>-3.23999994278</td><td>0.209999993443</td><td>0.270000010729</td><td>-2.58000009537</td><td>0.189999997616</td><td>0.259999990463</td><td>-2.42999991417</td><td>0.119999997318</td><td>0.20000000298</td><td>nan</td><td>nan</td><td>nan</td><td>-2.52999996185</td><td>0.159999996424</td><td>0.230000004172</td><td>-3.14999999046</td><td>0.180000007153</td><td>0.259999990463</td><td>nan</td><td>nan</td><td>nan</td><td>-2.63999986649</td><td>0.140000000596</td><td>0.189999997616</td><td>nan</td><td>nan</td><td>nan</td><td>-2.48999986649</td><td>0.109999999404</td><td>0.180000007153</td><td>-3.18</td><td>0.159999996424</td><td>0.219999998808</td><td>nan</td><td>nan</td><td>nan</td><td>-2.70000001907</td><td>0.209999993443</td><td>0.300000011921</td><td>-2.56000002623</td><td>0.180000007153</td><td>0.230000004172</td><td>nan</td><td>nan</td><td>nan</td><td>-2.81000000134</td><td>0.20000000298</td><td>0.310000002384</td><td>-2.41000003815</td><td>0.15000000596</td><td>0.209999993443</td><td>nan</td><td>nan</td><td>nan</td><td>nan</td><td>nan</td><td>nan</td><td>nan</td><td>nan</td><td>nan</td><td>nan</td><td>nan</td><td>nan</td></tr>\n",
       "<tr><td>CS 22958-083</td><td>-3.65000004768</td><td>0.170000001788</td><td>0.259999990463</td><td>-3.82999997616</td><td>0.189999997616</td><td>0.239999994636</td><td>-2.19000022888</td><td>0.20000000298</td><td>0.259999990463</td><td>-2.4499998951</td><td>0.119999997318</td><td>0.20000000298</td><td>nan</td><td>nan</td><td>nan</td><td>-2.57999991417</td><td>0.159999996424</td><td>0.219999998808</td><td>-2.86000002861</td><td>0.170000001788</td><td>0.270000010729</td><td>nan</td><td>nan</td><td>nan</td><td>-2.78999996185</td><td>0.119999997318</td><td>0.180000007153</td><td>nan</td><td>nan</td><td>nan</td><td>-2.40999994278</td><td>0.119999997318</td><td>0.180000007153</td><td>-3.10000007629</td><td>0.159999996424</td><td>0.219999998808</td><td>nan</td><td>nan</td><td>nan</td><td>-2.47999999046</td><td>0.189999997616</td><td>0.289999991655</td><td>-2.74000000358</td><td>0.189999997616</td><td>0.239999994636</td><td>nan</td><td>nan</td><td>nan</td><td>-2.75000000268</td><td>0.209999993443</td><td>0.310000002384</td><td>-2.43000001907</td><td>0.159999996424</td><td>0.209999993443</td><td>nan</td><td>nan</td><td>nan</td><td>nan</td><td>nan</td><td>nan</td><td>nan</td><td>nan</td><td>nan</td><td>nan</td><td>nan</td><td>nan</td></tr>\n",
       "<tr><td>CS 22960-010</td><td>-3.54999990463</td><td>0.140000000596</td><td>0.209999993443</td><td>nan</td><td>nan</td><td>nan</td><td>-1.87000005722</td><td>0.170000001788</td><td>0.239999994636</td><td>-2.36999997139</td><td>0.119999997318</td><td>0.20000000298</td><td>nan</td><td>nan</td><td>nan</td><td>nan</td><td>nan</td><td>nan</td><td>-2.7499998951</td><td>0.15000000596</td><td>0.20000000298</td><td>nan</td><td>nan</td><td>nan</td><td>-2.65000009537</td><td>0.119999997318</td><td>0.170000001788</td><td>nan</td><td>nan</td><td>nan</td><td>-2.42000017166</td><td>0.129999995232</td><td>0.189999997616</td><td>-2.96999996185</td><td>0.15000000596</td><td>0.20000000298</td><td>nan</td><td>nan</td><td>nan</td><td>-2.69000002861</td><td>0.159999996424</td><td>0.209999993443</td><td>-2.46000000238</td><td>0.180000007153</td><td>0.230000004172</td><td>nan</td><td>nan</td><td>nan</td><td>nan</td><td>nan</td><td>nan</td><td>-2.38000006676</td><td>0.159999996424</td><td>0.209999993443</td><td>nan</td><td>nan</td><td>nan</td><td>nan</td><td>nan</td><td>nan</td><td>nan</td><td>nan</td><td>nan</td><td>nan</td><td>nan</td><td>nan</td></tr>\n",
       "<tr><td>CS 29491-069</td><td>-3.8099998951</td><td>0.140000000596</td><td>0.230000004172</td><td>-2.52000000358</td><td>0.219999998808</td><td>0.289999991655</td><td>-2.66999977112</td><td>0.189999997616</td><td>0.25</td><td>-2.50000008583</td><td>0.119999997318</td><td>0.20000000298</td><td>nan</td><td>nan</td><td>nan</td><td>-2.71000002861</td><td>0.159999996424</td><td>0.219999998808</td><td>-3.06000007629</td><td>0.159999996424</td><td>0.239999994636</td><td>-1.76000000954</td><td>0.180000007153</td><td>0.230000004172</td><td>-2.80999994278</td><td>0.129999995232</td><td>0.180000007153</td><td>nan</td><td>nan</td><td>nan</td><td>-2.54999980927</td><td>0.109999999404</td><td>0.180000007153</td><td>-3.42000000954</td><td>0.170000001788</td><td>0.219999998808</td><td>nan</td><td>nan</td><td>nan</td><td>-2.81999990463</td><td>0.180000007153</td><td>0.259999990463</td><td>-2.77999999523</td><td>0.170000001788</td><td>0.219999998808</td><td>nan</td><td>nan</td><td>nan</td><td>-2.63999999583</td><td>0.180000007153</td><td>0.270000010729</td><td>-2.52999992371</td><td>0.159999996424</td><td>0.209999993443</td><td>nan</td><td>nan</td><td>nan</td><td>-2.77999999285</td><td>0.180000007153</td><td>0.230000004172</td><td>nan</td><td>nan</td><td>nan</td><td>nan</td><td>nan</td><td>nan</td></tr>\n",
       "<tr><td>...</td><td>...</td><td>...</td><td>...</td><td>...</td><td>...</td><td>...</td><td>...</td><td>...</td><td>...</td><td>...</td><td>...</td><td>...</td><td>...</td><td>...</td><td>...</td><td>...</td><td>...</td><td>...</td><td>...</td><td>...</td><td>...</td><td>...</td><td>...</td><td>...</td><td>...</td><td>...</td><td>...</td><td>...</td><td>...</td><td>...</td><td>...</td><td>...</td><td>...</td><td>...</td><td>...</td><td>...</td><td>...</td><td>...</td><td>...</td><td>...</td><td>...</td><td>...</td><td>...</td><td>...</td><td>...</td><td>...</td><td>...</td><td>...</td><td>...</td><td>...</td><td>...</td><td>...</td><td>...</td><td>...</td><td>...</td><td>...</td><td>...</td><td>...</td><td>...</td><td>...</td><td>...</td><td>...</td><td>...</td><td>...</td><td>...</td><td>...</td></tr>\n",
       "<tr><td>HE 2329-3702</td><td>-3.19000000954</td><td>0.15000000596</td><td>0.230000004172</td><td>-2.33999999642</td><td>0.20000000298</td><td>0.239999994636</td><td>-2.04000013351</td><td>0.20000000298</td><td>0.259999990463</td><td>-1.68999990463</td><td>0.109999999404</td><td>0.20000000298</td><td>nan</td><td>nan</td><td>nan</td><td>-2.18000005722</td><td>0.15000000596</td><td>0.209999993443</td><td>-2.29000009537</td><td>0.159999996424</td><td>0.219999998808</td><td>nan</td><td>nan</td><td>nan</td><td>-2.15000009537</td><td>0.119999997318</td><td>0.180000007153</td><td>nan</td><td>nan</td><td>nan</td><td>-1.86000022888</td><td>0.109999999404</td><td>0.170000001788</td><td>-2.76999991417</td><td>0.15000000596</td><td>0.20000000298</td><td>nan</td><td>nan</td><td>nan</td><td>-2.33999988556</td><td>0.159999996424</td><td>0.209999993443</td><td>-1.91999998093</td><td>0.180000007153</td><td>0.239999994636</td><td>nan</td><td>nan</td><td>nan</td><td>-1.91000002146</td><td>0.209999993443</td><td>0.300000011921</td><td>-1.66000003815</td><td>0.159999996424</td><td>0.209999993443</td><td>nan</td><td>nan</td><td>nan</td><td>nan</td><td>nan</td><td>nan</td><td>nan</td><td>nan</td><td>nan</td><td>nan</td><td>nan</td><td>nan</td></tr>\n",
       "<tr><td>HE 2333-1358</td><td>-4.24999995232</td><td>0.170000001788</td><td>0.239999994636</td><td>nan</td><td>nan</td><td>nan</td><td>-3.04999988556</td><td>0.20000000298</td><td>0.270000010729</td><td>-3.06000002861</td><td>0.119999997318</td><td>0.20000000298</td><td>nan</td><td>nan</td><td>nan</td><td>-3.00999998093</td><td>0.159999996424</td><td>0.219999998808</td><td>-3.84000004768</td><td>0.230000004172</td><td>0.280000001192</td><td>nan</td><td>nan</td><td>nan</td><td>-3.34000015259</td><td>0.129999995232</td><td>0.180000007153</td><td>nan</td><td>nan</td><td>nan</td><td>-2.90000019073</td><td>0.119999997318</td><td>0.189999997616</td><td>-4.17000000954</td><td>0.170000001788</td><td>0.209999993443</td><td>nan</td><td>nan</td><td>nan</td><td>-3.00999996185</td><td>0.189999997616</td><td>0.270000010729</td><td>-2.99000000358</td><td>0.180000007153</td><td>0.230000004172</td><td>nan</td><td>nan</td><td>nan</td><td>-5.11000000954</td><td>0.20000000298</td><td>0.259999990463</td><td>-3.15000004768</td><td>0.180000007153</td><td>0.230000004172</td><td>nan</td><td>nan</td><td>nan</td><td>nan</td><td>nan</td><td>nan</td><td>nan</td><td>nan</td><td>nan</td><td>nan</td><td>nan</td><td>nan</td></tr>\n",
       "<tr><td>HE 2334-0604</td><td>-3.73999996185</td><td>0.140000000596</td><td>0.239999994636</td><td>-4.75999992371</td><td>0.189999997616</td><td>0.230000004172</td><td>-4.10999982834</td><td>0.219999998808</td><td>0.280000001192</td><td>-3.29000004768</td><td>0.119999997318</td><td>0.20000000298</td><td>nan</td><td>nan</td><td>nan</td><td>-3.25999998093</td><td>0.15000000596</td><td>0.219999998808</td><td>-3.96000005245</td><td>0.15000000596</td><td>0.20000000298</td><td>nan</td><td>nan</td><td>nan</td><td>-3.40999984741</td><td>0.129999995232</td><td>0.180000007153</td><td>nan</td><td>nan</td><td>nan</td><td>-3.36999998093</td><td>0.119999997318</td><td>0.189999997616</td><td>-4.17000000954</td><td>0.159999996424</td><td>0.209999993443</td><td>nan</td><td>nan</td><td>nan</td><td>-3.40000006676</td><td>0.159999996424</td><td>0.219999998808</td><td>-3.4</td><td>0.170000001788</td><td>0.219999998808</td><td>nan</td><td>nan</td><td>nan</td><td>-4.14999997139</td><td>0.189999997616</td><td>0.270000010729</td><td>-3.33999998569</td><td>0.159999996424</td><td>0.209999993443</td><td>nan</td><td>nan</td><td>nan</td><td>nan</td><td>nan</td><td>nan</td><td>nan</td><td>nan</td><td>nan</td><td>nan</td><td>nan</td><td>nan</td></tr>\n",
       "<tr><td>HE 2335-5958B</td><td>-3.35000009537</td><td>0.180000007153</td><td>0.239999994636</td><td>-2.68999999046</td><td>0.209999993443</td><td>0.25</td><td>-2.27999990463</td><td>0.189999997616</td><td>0.259999990463</td><td>-1.89000019073</td><td>0.119999997318</td><td>0.20000000298</td><td>nan</td><td>nan</td><td>nan</td><td>-2.25999998093</td><td>0.15000000596</td><td>0.219999998808</td><td>-2.39</td><td>0.170000001788</td><td>0.239999994636</td><td>nan</td><td>nan</td><td>nan</td><td>-2.32000017166</td><td>0.129999995232</td><td>0.180000007153</td><td>nan</td><td>nan</td><td>nan</td><td>-2.13000020981</td><td>0.119999997318</td><td>0.180000007153</td><td>-2.86000006676</td><td>0.159999996424</td><td>0.209999993443</td><td>nan</td><td>nan</td><td>nan</td><td>-2.18999979019</td><td>0.20000000298</td><td>0.270000010729</td><td>-2.21999999285</td><td>0.170000001788</td><td>0.230000004172</td><td>nan</td><td>nan</td><td>nan</td><td>-2.26999997616</td><td>0.230000004172</td><td>0.330000013113</td><td>-1.94000000954</td><td>0.159999996424</td><td>0.209999993443</td><td>nan</td><td>nan</td><td>nan</td><td>nan</td><td>nan</td><td>nan</td><td>nan</td><td>nan</td><td>nan</td><td>nan</td><td>nan</td><td>nan</td></tr>\n",
       "<tr><td>HE 2338-1311</td><td>nan</td><td>nan</td><td>nan</td><td>nan</td><td>nan</td><td>nan</td><td>-2.56000011444</td><td>0.189999997616</td><td>0.25</td><td>-2.52000006676</td><td>0.119999997318</td><td>0.20000000298</td><td>nan</td><td>nan</td><td>nan</td><td>nan</td><td>nan</td><td>nan</td><td>-3.07000006676</td><td>0.15000000596</td><td>0.209999993443</td><td>nan</td><td>nan</td><td>nan</td><td>-2.86000013351</td><td>0.129999995232</td><td>0.180000007153</td><td>nan</td><td>nan</td><td>nan</td><td>-2.50000009537</td><td>0.119999997318</td><td>0.180000007153</td><td>nan</td><td>nan</td><td>nan</td><td>nan</td><td>nan</td><td>nan</td><td>nan</td><td>nan</td><td>nan</td><td>nan</td><td>nan</td><td>nan</td><td>nan</td><td>nan</td><td>nan</td><td>nan</td><td>nan</td><td>nan</td><td>-2.43000001907</td><td>0.159999996424</td><td>0.209999993443</td><td>nan</td><td>nan</td><td>nan</td><td>nan</td><td>nan</td><td>nan</td><td>nan</td><td>nan</td><td>nan</td><td>nan</td><td>nan</td><td>nan</td></tr>\n",
       "<tr><td>HE 2338-1618</td><td>-3.5900001049</td><td>0.159999996424</td><td>0.239999994636</td><td>nan</td><td>nan</td><td>nan</td><td>-2.21000020981</td><td>0.180000007153</td><td>0.25</td><td>-2.39999994278</td><td>0.119999997318</td><td>0.20000000298</td><td>nan</td><td>nan</td><td>nan</td><td>-2.3800001049</td><td>0.159999996424</td><td>0.219999998808</td><td>-2.77000011444</td><td>0.180000007153</td><td>0.239999994636</td><td>nan</td><td>nan</td><td>nan</td><td>-2.63999986649</td><td>0.119999997318</td><td>0.180000007153</td><td>nan</td><td>nan</td><td>nan</td><td>-2.50000009537</td><td>0.119999997318</td><td>0.180000007153</td><td>-3.31000011444</td><td>0.159999996424</td><td>0.209999993443</td><td>nan</td><td>nan</td><td>nan</td><td>-2.40000006676</td><td>0.209999993443</td><td>0.270000010729</td><td>-2.53999998569</td><td>0.180000007153</td><td>0.230000004172</td><td>nan</td><td>nan</td><td>nan</td><td>-2.7600000006</td><td>0.230000004172</td><td>0.319999992847</td><td>-2.40000004768</td><td>0.159999996424</td><td>0.209999993443</td><td>nan</td><td>nan</td><td>nan</td><td>nan</td><td>nan</td><td>nan</td><td>nan</td><td>nan</td><td>nan</td><td>nan</td><td>nan</td><td>nan</td></tr>\n",
       "<tr><td>HE 2345-1919</td><td>-3.02999992371</td><td>0.129999995232</td><td>0.230000004172</td><td>-2.97000002146</td><td>0.189999997616</td><td>0.239999994636</td><td>-2.25999992371</td><td>0.189999997616</td><td>0.239999994636</td><td>-2.18999990463</td><td>0.119999997318</td><td>0.20000000298</td><td>nan</td><td>nan</td><td>nan</td><td>-2.35999988556</td><td>0.159999996424</td><td>0.219999998808</td><td>-2.50999988556</td><td>0.15000000596</td><td>0.219999998808</td><td>nan</td><td>nan</td><td>nan</td><td>-2.46000003815</td><td>0.119999997318</td><td>0.180000007153</td><td>nan</td><td>nan</td><td>nan</td><td>-2.15000019073</td><td>0.119999997318</td><td>0.180000007153</td><td>-2.92000000954</td><td>0.15000000596</td><td>0.209999993443</td><td>nan</td><td>nan</td><td>nan</td><td>-2.44000002861</td><td>0.159999996424</td><td>0.219999998808</td><td>-2.46999999285</td><td>0.180000007153</td><td>0.230000004172</td><td>nan</td><td>nan</td><td>nan</td><td>-2.63999999583</td><td>0.180000007153</td><td>0.25</td><td>-2.17000002861</td><td>0.159999996424</td><td>0.209999993443</td><td>nan</td><td>nan</td><td>nan</td><td>nan</td><td>nan</td><td>nan</td><td>nan</td><td>nan</td><td>nan</td><td>nan</td><td>nan</td><td>nan</td></tr>\n",
       "<tr><td>HE 2347-1254</td><td>-2.54999990463</td><td>0.119999997318</td><td>0.219999998808</td><td>-1.86999999762</td><td>0.20000000298</td><td>0.25</td><td>-1.60000007629</td><td>0.15000000596</td><td>0.219999998808</td><td>-1.43999990463</td><td>0.109999999404</td><td>0.20000000298</td><td>nan</td><td>nan</td><td>nan</td><td>-1.75999998093</td><td>0.140000000596</td><td>0.209999993443</td><td>-1.91999997139</td><td>0.15000000596</td><td>0.219999998808</td><td>nan</td><td>nan</td><td>nan</td><td>-1.82999992371</td><td>0.129999995232</td><td>0.180000007153</td><td>nan</td><td>nan</td><td>nan</td><td>-1.56000003815</td><td>0.109999999404</td><td>0.170000001788</td><td>-2.25999992371</td><td>0.15000000596</td><td>0.20000000298</td><td>nan</td><td>nan</td><td>nan</td><td>-1.95999977112</td><td>0.159999996424</td><td>0.219999998808</td><td>-1.54999997616</td><td>0.170000001788</td><td>0.219999998808</td><td>nan</td><td>nan</td><td>nan</td><td>-1.50999998569</td><td>0.159999996424</td><td>0.25</td><td>-1.37000007629</td><td>0.15000000596</td><td>0.20000000298</td><td>-1.5399998951</td><td>0.140000000596</td><td>0.189999997616</td><td>-1.64000000715</td><td>0.170000001788</td><td>0.219999998808</td><td>-1.65999990463</td><td>0.129999995232</td><td>0.20000000298</td><td>nan</td><td>nan</td><td>nan</td></tr>\n",
       "<tr><td>HE 2347-1334</td><td>-3.13000006676</td><td>0.15000000596</td><td>0.25</td><td>-3.39000003815</td><td>0.189999997616</td><td>0.25</td><td>-3.10000007629</td><td>0.209999993443</td><td>0.259999990463</td><td>-2.36999997139</td><td>0.109999999404</td><td>0.20000000298</td><td>nan</td><td>nan</td><td>nan</td><td>-2.73000000954</td><td>0.170000001788</td><td>0.239999994636</td><td>-3.0300001049</td><td>0.189999997616</td><td>0.289999991655</td><td>-2.81999995232</td><td>0.180000007153</td><td>0.219999998808</td><td>-2.55999994278</td><td>0.119999997318</td><td>0.189999997616</td><td>-2.97999999523</td><td>0.170000001788</td><td>0.209999993443</td><td>-2.29000005722</td><td>0.119999997318</td><td>0.189999997616</td><td>-3.04999988556</td><td>0.140000000596</td><td>0.20000000298</td><td>-2.91000000954</td><td>0.180000007153</td><td>0.230000004172</td><td>-2.60000011444</td><td>0.310000002384</td><td>0.379999995232</td><td>-2.56000002623</td><td>0.15000000596</td><td>0.20000000298</td><td>nan</td><td>nan</td><td>nan</td><td>-2.66999999702</td><td>0.159999996424</td><td>0.230000004172</td><td>-2.44000000954</td><td>0.15000000596</td><td>0.20000000298</td><td>-2.69999998093</td><td>0.159999996424</td><td>0.20000000298</td><td>-2.82000001431</td><td>0.170000001788</td><td>0.219999998808</td><td>-2.39999991417</td><td>0.119999997318</td><td>0.20000000298</td><td>-2.42999999404</td><td>0.170000001788</td><td>0.209999993443</td></tr>\n",
       "<tr><td>HE 2347-1448</td><td>-3.40000004768</td><td>0.159999996424</td><td>0.219999998808</td><td>-2.52000000358</td><td>0.189999997616</td><td>0.239999994636</td><td>-1.85000007629</td><td>0.180000007153</td><td>0.239999994636</td><td>-2.09</td><td>0.109999999404</td><td>0.20000000298</td><td>nan</td><td>nan</td><td>nan</td><td>nan</td><td>nan</td><td>nan</td><td>-2.33000005722</td><td>0.159999996424</td><td>0.219999998808</td><td>nan</td><td>nan</td><td>nan</td><td>-2.30999994278</td><td>0.119999997318</td><td>0.180000007153</td><td>nan</td><td>nan</td><td>nan</td><td>-2.19999990463</td><td>0.119999997318</td><td>0.180000007153</td><td>-3.02999990463</td><td>0.159999996424</td><td>0.20000000298</td><td>nan</td><td>nan</td><td>nan</td><td>-2.00999996185</td><td>0.209999993443</td><td>0.270000010729</td><td>-2.21999999285</td><td>0.180000007153</td><td>0.230000004172</td><td>nan</td><td>nan</td><td>nan</td><td>-2.12999999046</td><td>0.20000000298</td><td>0.289999991655</td><td>-1.94000000954</td><td>0.159999996424</td><td>0.209999993443</td><td>nan</td><td>nan</td><td>nan</td><td>nan</td><td>nan</td><td>nan</td><td>nan</td><td>nan</td><td>nan</td><td>nan</td><td>nan</td><td>nan</td></tr>\n",
       "</table>"
      ],
      "text/plain": [
       "<Table length=253>\n",
       "     name          al_h       al_h_err_rel  ...  zr_h_err_rel   zr_h_err_abs \n",
       "    str13        float64        float64     ...    float64        float64    \n",
       "------------- -------------- -------------- ... -------------- --------------\n",
       "CS 22175-007  -3.91000003815 0.170000001788 ...            nan            nan\n",
       "CS 22186-023  -3.67000002861  0.15000000596 ...            nan            nan\n",
       "CS 22186-025  -3.85000009537 0.209999993443 ...            nan            nan\n",
       "CS 22886-042  -3.74999995232 0.170000001788 ...            nan            nan\n",
       "CS 22892-052  -3.66000003815 0.159999996424 ...            nan            nan\n",
       "CS 22945-028  -3.62000007629 0.180000007153 ...            nan            nan\n",
       "CS 22957-013   -3.5599998951  0.20000000298 ...            nan            nan\n",
       "CS 22958-083  -3.65000004768 0.170000001788 ...            nan            nan\n",
       "CS 22960-010  -3.54999990463 0.140000000596 ...            nan            nan\n",
       "CS 29491-069   -3.8099998951 0.140000000596 ...            nan            nan\n",
       "          ...            ...            ... ...            ...            ...\n",
       "HE 2329-3702  -3.19000000954  0.15000000596 ...            nan            nan\n",
       "HE 2333-1358  -4.24999995232 0.170000001788 ...            nan            nan\n",
       "HE 2334-0604  -3.73999996185 0.140000000596 ...            nan            nan\n",
       "HE 2335-5958B -3.35000009537 0.180000007153 ...            nan            nan\n",
       "HE 2338-1311             nan            nan ...            nan            nan\n",
       "HE 2338-1618   -3.5900001049 0.159999996424 ...            nan            nan\n",
       "HE 2345-1919  -3.02999992371 0.129999995232 ...            nan            nan\n",
       "HE 2347-1254  -2.54999990463 0.119999997318 ...            nan            nan\n",
       "HE 2347-1334  -3.13000006676  0.15000000596 ... 0.170000001788 0.209999993443\n",
       "HE 2347-1448  -3.40000004768 0.159999996424 ...            nan            nan"
      ]
     },
     "execution_count": 8,
     "metadata": {},
     "output_type": "execute_result"
    }
   ],
   "source": [
    "data"
   ]
  },
  {
   "cell_type": "code",
   "execution_count": 9,
   "metadata": {},
   "outputs": [
    {
     "data": {
      "text/plain": [
       "('name',\n",
       " 'al_h',\n",
       " 'al_h_err_rel',\n",
       " 'al_h_err_abs',\n",
       " 'ba_h',\n",
       " 'ba_h_err_rel',\n",
       " 'ba_h_err_abs',\n",
       " 'c_h',\n",
       " 'c_h_err_rel',\n",
       " 'c_h_err_abs',\n",
       " 'ca_h',\n",
       " 'ca_h_err_rel',\n",
       " 'ca_h_err_abs',\n",
       " 'ce_h',\n",
       " 'ce_h_err_rel',\n",
       " 'ce_h_err_abs',\n",
       " 'co_h',\n",
       " 'co_h_err_rel',\n",
       " 'co_h_err_abs',\n",
       " 'cr_h',\n",
       " 'cr_h_err_rel',\n",
       " 'cr_h_err_abs',\n",
       " 'eu_h',\n",
       " 'eu_h_err_rel',\n",
       " 'eu_h_err_abs',\n",
       " 'fe_h',\n",
       " 'fe_h_err_rel',\n",
       " 'fe_h_err_abs',\n",
       " 'la_h',\n",
       " 'la_h_err_rel',\n",
       " 'la_h_err_abs',\n",
       " 'mg_h',\n",
       " 'mg_h_err_rel',\n",
       " 'mg_h_err_abs',\n",
       " 'mn_h',\n",
       " 'mn_h_err_rel',\n",
       " 'mn_h_err_abs',\n",
       " 'nd_h',\n",
       " 'nd_h_err_rel',\n",
       " 'nd_h_err_abs',\n",
       " 'ni_h',\n",
       " 'ni_h_err_rel',\n",
       " 'ni_h_err_abs',\n",
       " 'sc_h',\n",
       " 'sc_h_err_rel',\n",
       " 'sc_h_err_abs',\n",
       " 'sm_h',\n",
       " 'sm_h_err_rel',\n",
       " 'sm_h_err_abs',\n",
       " 'sr_h',\n",
       " 'sr_h_err_rel',\n",
       " 'sr_h_err_abs',\n",
       " 'ti_h',\n",
       " 'ti_h_err_rel',\n",
       " 'ti_h_err_abs',\n",
       " 'v_h',\n",
       " 'v_h_err_rel',\n",
       " 'v_h_err_abs',\n",
       " 'y_h',\n",
       " 'y_h_err_rel',\n",
       " 'y_h_err_abs',\n",
       " 'zn_h',\n",
       " 'zn_h_err_rel',\n",
       " 'zn_h_err_abs',\n",
       " 'zr_h',\n",
       " 'zr_h_err_rel',\n",
       " 'zr_h_err_abs')"
      ]
     },
     "execution_count": 9,
     "metadata": {},
     "output_type": "execute_result"
    }
   ],
   "source": [
    "data.dtype.names"
   ]
  },
  {
   "cell_type": "code",
   "execution_count": 10,
   "metadata": {
    "collapsed": true
   },
   "outputs": [],
   "source": [
    "elements = [ea for ea in data.dtype.names if ea.endswith(\"_h\")]"
   ]
  },
  {
   "cell_type": "code",
   "execution_count": 11,
   "metadata": {},
   "outputs": [
    {
     "data": {
      "text/plain": [
       "['al_h',\n",
       " 'ba_h',\n",
       " 'c_h',\n",
       " 'ca_h',\n",
       " 'ce_h',\n",
       " 'co_h',\n",
       " 'cr_h',\n",
       " 'eu_h',\n",
       " 'fe_h',\n",
       " 'la_h',\n",
       " 'mg_h',\n",
       " 'mn_h',\n",
       " 'nd_h',\n",
       " 'ni_h',\n",
       " 'sc_h',\n",
       " 'sm_h',\n",
       " 'sr_h',\n",
       " 'ti_h',\n",
       " 'v_h',\n",
       " 'y_h',\n",
       " 'zn_h',\n",
       " 'zr_h']"
      ]
     },
     "execution_count": 11,
     "metadata": {},
     "output_type": "execute_result"
    }
   ],
   "source": [
    "elements"
   ]
  },
  {
   "cell_type": "code",
   "execution_count": 12,
   "metadata": {
    "collapsed": true
   },
   "outputs": [],
   "source": [
    "X = np.array([data[el] for el in elements]).T"
   ]
  },
  {
   "cell_type": "code",
   "execution_count": 13,
   "metadata": {},
   "outputs": [
    {
     "data": {
      "text/plain": [
       "(253, 22)"
      ]
     },
     "execution_count": 13,
     "metadata": {},
     "output_type": "execute_result"
    }
   ],
   "source": [
    "X.shape"
   ]
  },
  {
   "cell_type": "code",
   "execution_count": 14,
   "metadata": {},
   "outputs": [
    {
     "data": {
      "text/plain": [
       "6"
      ]
     },
     "execution_count": 14,
     "metadata": {},
     "output_type": "execute_result"
    }
   ],
   "source": [
    "np.sum(np.all(np.isfinite(X), axis=1))"
   ]
  },
  {
   "cell_type": "code",
   "execution_count": 15,
   "metadata": {},
   "outputs": [
    {
     "data": {
      "text/plain": [
       "{'al_h': 239,\n",
       " 'ba_h': 220,\n",
       " 'c_h': 249,\n",
       " 'ca_h': 253,\n",
       " 'ce_h': 13,\n",
       " 'co_h': 223,\n",
       " 'cr_h': 248,\n",
       " 'eu_h': 68,\n",
       " 'fe_h': 253,\n",
       " 'la_h': 33,\n",
       " 'mg_h': 245,\n",
       " 'mn_h': 237,\n",
       " 'nd_h': 35,\n",
       " 'ni_h': 247,\n",
       " 'sc_h': 247,\n",
       " 'sm_h': 9,\n",
       " 'sr_h': 245,\n",
       " 'ti_h': 250,\n",
       " 'v_h': 47,\n",
       " 'y_h': 154,\n",
       " 'zn_h': 38,\n",
       " 'zr_h': 48}"
      ]
     },
     "execution_count": 15,
     "metadata": {},
     "output_type": "execute_result"
    }
   ],
   "source": [
    "finites = dict()\n",
    "for element in elements:\n",
    "    finites[element] = np.sum(np.isfinite(data[element]))\n",
    "finites"
   ]
  },
  {
   "cell_type": "code",
   "execution_count": 16,
   "metadata": {},
   "outputs": [
    {
     "name": "stdout",
     "output_type": "stream",
     "text": [
      "fe_h 253\n",
      "ca_h 253\n",
      "ti_h 250\n",
      "c_h 249\n",
      "cr_h 248\n",
      "sc_h 247\n",
      "ni_h 247\n",
      "sr_h 245\n",
      "mg_h 245\n",
      "al_h 239\n",
      "mn_h 237\n",
      "co_h 223\n",
      "ba_h 220\n",
      "y_h 154\n",
      "eu_h 68\n",
      "zr_h 48\n",
      "v_h 47\n",
      "zn_h 38\n",
      "nd_h 35\n",
      "la_h 33\n",
      "ce_h 13\n",
      "sm_h 9\n"
     ]
    }
   ],
   "source": [
    "sorted_finites = sorted(finites.items(), key=lambda x:x[1])[::-1]\n",
    "for k, v in sorted_finites:\n",
    "    print(k, v)"
   ]
  },
  {
   "cell_type": "code",
   "execution_count": 17,
   "metadata": {
    "collapsed": true
   },
   "outputs": [],
   "source": [
    "D = 15"
   ]
  },
  {
   "cell_type": "code",
   "execution_count": 18,
   "metadata": {
    "collapsed": true
   },
   "outputs": [],
   "source": [
    "use_elements = [k for k, v in sorted_finites][:D]"
   ]
  },
  {
   "cell_type": "code",
   "execution_count": 19,
   "metadata": {},
   "outputs": [
    {
     "data": {
      "text/plain": [
       "['fe_h',\n",
       " 'ca_h',\n",
       " 'ti_h',\n",
       " 'c_h',\n",
       " 'cr_h',\n",
       " 'sc_h',\n",
       " 'ni_h',\n",
       " 'sr_h',\n",
       " 'mg_h',\n",
       " 'al_h',\n",
       " 'mn_h',\n",
       " 'co_h',\n",
       " 'ba_h',\n",
       " 'y_h',\n",
       " 'eu_h']"
      ]
     },
     "execution_count": 19,
     "metadata": {},
     "output_type": "execute_result"
    }
   ],
   "source": [
    "use_elements"
   ]
  },
  {
   "cell_type": "code",
   "execution_count": 20,
   "metadata": {
    "collapsed": true
   },
   "outputs": [],
   "source": [
    "idx = np.argsort(np.array([atomic_number(ln.split(\"_\")[0]) for ln in use_elements]))\n",
    "label_names = [use_elements[i] for i in idx]\n",
    "\n",
    "X = np.array([data[ln] for ln in label_names]).T"
   ]
  },
  {
   "cell_type": "code",
   "execution_count": 21,
   "metadata": {
    "collapsed": true
   },
   "outputs": [],
   "source": [
    "keep = np.all(np.isfinite(X), axis=1)\n",
    "X = X[keep]"
   ]
  },
  {
   "cell_type": "code",
   "execution_count": 24,
   "metadata": {},
   "outputs": [],
   "source": [
    "X.shape\n",
    "import pickle\n",
    "with open(\"barklem.pkl\", \"wb\") as fp:\n",
    "    pickle.dump((X, label_names, keep), fp)"
   ]
  },
  {
   "cell_type": "code",
   "execution_count": null,
   "metadata": {},
   "outputs": [],
   "source": [
    "model = MCFA(n_components=1, n_latent_factors=3)\n",
    "model.fit(X)"
   ]
  },
  {
   "cell_type": "code",
   "execution_count": null,
   "metadata": {
    "scrolled": true
   },
   "outputs": [],
   "source": [
    "\n",
    "latex_labels = dict()\n",
    "                               \n",
    "A = model.theta_[model.parameter_names.index(\"A\")]\n",
    "\n",
    "fig, axes = plt.subplots(model.n_latent_factors, figsize=(10, 10))\n",
    "for i, ax in enumerate(axes):\n",
    "    ax.plot(A.T[i])\n",
    "    ax.set_xticks(np.arange(D))\n",
    "    ax.set_xticklabels([ln.split(\"_\")[0] for ln in label_names])\n"
   ]
  },
  {
   "cell_type": "code",
   "execution_count": null,
   "metadata": {},
   "outputs": [],
   "source": [
    "N, D = X.shape\n",
    "\n",
    "print(N,D)\n",
    "\n",
    "# Do some grid search in J, K\n",
    "Js = np.arange(1, 10 + 1).astype(int)\n",
    "Ks = np.arange(1, 10 + 1).astype(int)\n",
    "\n",
    "BICs = np.nan * np.ones((Js.size, Ks.size))\n",
    "opt_times = np.nan * np.ones((Js.size, Ks.size))\n",
    "log_likelihoods = np.nan * np.ones((Js.size, Ks.size))\n",
    "\n",
    "write_results = False\n",
    "results_path = \"results/barklem-gridsearch-J{J}-K{K}.pkl\"\n",
    "\n",
    "results_folder = os.path.dirname(results_path)\n",
    "if not os.path.exists(results_folder):\n",
    "    os.mkdir(results_folder)\n",
    "\n",
    "mcfa_kwds = dict(max_iter=1000, n_init=5, tol=1e-5, verbose=0,\n",
    "                 random_seed=None)\n",
    "\n",
    "c, C = (0, Js.size * Ks.size)\n",
    "\n",
    "for k, K in enumerate(Ks):\n",
    "    for j, J in enumerate(Js):\n",
    "        \n",
    "        c += 1\n",
    "        print(\"{}/{}: J = {}, K = {}\".format(c, C, J, K))\n",
    "        if np.isfinite(BICs[j, k]):\n",
    "            print(\"Skipping..\")\n",
    "            continue\n",
    "        \n",
    "        kwds = mcfa_kwds.copy()\n",
    "        kwds.update(n_components=K, n_latent_factors=J)\n",
    "        \n",
    "        model = MCFA(**kwds)\n",
    "        \n",
    "        t_init = time()\n",
    "        try:\n",
    "            model.fit(X)\n",
    "            \n",
    "        except:\n",
    "            logger.exception(\"Exception in fitting at J = {}, K = {}\".format(J, K))\n",
    "            opt_times[j, k] = np.nan\n",
    "            BICs[j, k] = np.nan\n",
    "            log_likelihoods[j, k] = np.nan\n",
    "            continue\n",
    "            \n",
    "        t_opt = time() - t_init\n",
    "        \n",
    "        # Save results.\n",
    "        opt_times[j, k] = t_opt\n",
    "        BICs[j, k] = model.bic(X)\n",
    "        log_likelihoods[j, k] = model.log_likelihood_                     \n",
    "        \n",
    "        if write_results:\n",
    "            result = dict(kwds=kwds,\n",
    "                          t_opt=t_opt,\n",
    "                          bic=BICs[j, k],\n",
    "                          tau=model.tau_,\n",
    "                          theta=model.theta_,\n",
    "                          n_iter=model.n_iter_, \n",
    "                          log_likelihood=model.log_likelihood_)\n",
    "            \n",
    "            path = results_path.format(J=J, K=K)\n",
    "            with open(path, \"wb\") as fp:\n",
    "                pickle.dump(result, fp, -1)\n",
    "\n",
    "            print(\"Results written to {}\".format(path))\n",
    "\n"
   ]
  },
  {
   "cell_type": "code",
   "execution_count": null,
   "metadata": {
    "collapsed": true
   },
   "outputs": [],
   "source": [
    "def scatter_grid_search(Js, Ks, Zs, z_percentiles=None, cbar_label=None,\n",
    "                        figsize=(10, 10), highlight_z_index=None, **kwargs):\n",
    "\n",
    "    Jm, Km = np.meshgrid(Js, Ks)\n",
    "    x, y = (Jm.flatten(), Km.flatten())\n",
    "    z = Zs.T.flatten()\n",
    "\n",
    "    kwds = dict(s=10, cmap=\"viridis\")\n",
    "    if z_percentiles is not None:\n",
    "        vmin, vmax = np.nanpercentile(z, z_percentiles)\n",
    "        kwds.update(vmin=vmin, vmax=vmax)\n",
    "    \n",
    "    kwds.update(kwargs)\n",
    "    \n",
    "    fig, ax = plt.subplots(figsize=figsize)\n",
    "    scat = ax.scatter(x, y, c=z, **kwds)\n",
    "    \n",
    "    ax.set_xlabel(r\"$J$\")\n",
    "    ax.set_ylabel(r\"$K$\")\n",
    "    \n",
    "    if cbar_label is not None:\n",
    "        cbar = plt.colorbar(scat)\n",
    "        cbar.set_label(cbar_label)\n",
    "        \n",
    "    ax.set_xticks(np.unique(x).astype(int))\n",
    "    ax.set_xticklabels(np.unique(x).astype(str))\n",
    "    \n",
    "    if highlight_z_index is not None:\n",
    "        ok = np.where(np.isfinite(z))[0]\n",
    "        \n",
    "        indices = ok[np.argsort(z[ok])][highlight_z_index]\n",
    "        ax.scatter(x[indices], y[indices], zorder=-1,\n",
    "                   s=100, lw=5, edgecolor=\"r\", facecolor=\"none\")\n",
    "        \n",
    "    \n",
    "    fig.tight_layout()\n",
    "    return fig\n"
   ]
  },
  {
   "cell_type": "code",
   "execution_count": null,
   "metadata": {},
   "outputs": [],
   "source": [
    "fig = scatter_grid_search(Js, Ks, log_likelihoods, s=50,\n",
    "                          z_percentiles=[16, 84], cbar_label=r\"$\\mathcal{L}$\",\n",
    "                          highlight_z_index=-1)"
   ]
  },
  {
   "cell_type": "code",
   "execution_count": null,
   "metadata": {},
   "outputs": [],
   "source": [
    "fig = scatter_grid_search(Js, Ks, BICs, s=50,\n",
    "                          z_percentiles=[1, 25], cbar_label=r\"\\textrm{BIC}\",\n",
    "                          highlight_z_index=0)"
   ]
  },
  {
   "cell_type": "code",
   "execution_count": null,
   "metadata": {},
   "outputs": [],
   "source": [
    "model = MCFA(n_components=2, n_latent_factors=7, **mcfa_kwds)\n",
    "model.fit(X)"
   ]
  },
  {
   "cell_type": "code",
   "execution_count": null,
   "metadata": {},
   "outputs": [],
   "source": [
    "fig = model.plot_latent_space(X)"
   ]
  },
  {
   "cell_type": "code",
   "execution_count": null,
   "metadata": {},
   "outputs": [],
   "source": [
    "\n",
    "latex_labels = dict()\n",
    "                               \n",
    "A = model.theta_[model.parameter_names.index(\"A\")]\n",
    "\n",
    "fig, axes = plt.subplots(model.n_latent_factors, figsize=(10, 10))\n",
    "for i, ax in enumerate(axes):\n",
    "    ax.plot(A.T[i])\n",
    "    ax.set_xticks(np.arange(D))\n",
    "    ax.set_xticklabels([ln.split(\"_\")[0] for ln in label_names])\n"
   ]
  },
  {
   "cell_type": "code",
   "execution_count": null,
   "metadata": {},
   "outputs": [],
   "source": [
    "psi_index = model.parameter_names.index(\"psi\")\n",
    "psi = model.theta_[psi_index]\n",
    "\n",
    "fig, ax = plt.subplots(figsize=(10, 10))\n",
    "ax.plot(psi)\n",
    "ax.set_xticks(np.arange(D))\n",
    "ax.set_xticklabels([ln.split(\"_\")[0] for ln in label_names])"
   ]
  },
  {
   "cell_type": "code",
   "execution_count": null,
   "metadata": {},
   "outputs": [],
   "source": [
    "psi.shape"
   ]
  },
  {
   "cell_type": "code",
   "execution_count": null,
   "metadata": {
    "collapsed": true
   },
   "outputs": [],
   "source": [
    "X_err_rel = np.array([data[f\"{ln}_err_rel\"] for ln in label_names]).T[keep]\n",
    "X_err_abs = np.array([data[f\"{ln}_err_abs\"] for ln in label_names]).T[keep]"
   ]
  },
  {
   "cell_type": "code",
   "execution_count": null,
   "metadata": {},
   "outputs": [],
   "source": [
    "fig, ax = plt.subplots()\n",
    "ax.plot(np.mean(X_err_rel, axis=0), c=\"tab:blue\")\n",
    "ax.plot(np.mean(X_err_abs, axis=0), c=\"tab:red\")\n",
    "ax.set_xticks(np.arange(D))\n",
    "ax.set_xticklabels([ln.split(\"_\")[0] for ln in label_names])"
   ]
  },
  {
   "cell_type": "code",
   "execution_count": null,
   "metadata": {},
   "outputs": [],
   "source": [
    "from mcfa import mpl_utils\n",
    "fig = mpl_utils.corner_scatter(X, c=model.tau_.T[0], s=30, cmap=\"coolwarm\",\n",
    "                               label_names=[ln.split(\"_\")[0] for ln in label_names])\n"
   ]
  },
  {
   "cell_type": "code",
   "execution_count": null,
   "metadata": {
    "collapsed": true
   },
   "outputs": [],
   "source": []
  }
 ],
 "metadata": {
  "kernelspec": {
   "display_name": "Python 3",
   "language": "python",
   "name": "python3"
  },
  "language_info": {
   "codemirror_mode": {
    "name": "ipython",
    "version": 3
   },
   "file_extension": ".py",
   "mimetype": "text/x-python",
   "name": "python",
   "nbconvert_exporter": "python",
   "pygments_lexer": "ipython3",
   "version": "3.6.1"
  }
 },
 "nbformat": 4,
 "nbformat_minor": 2
}
