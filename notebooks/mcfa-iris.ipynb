{
 "cells": [
  {
   "cell_type": "code",
   "execution_count": 1,
   "metadata": {},
   "outputs": [],
   "source": [
    "import sys\n",
    "sys.path.insert(0, \"../\")\n",
    "\n",
    "import numpy as np\n",
    "import matplotlib.pyplot as plt\n",
    "from sklearn.datasets import load_iris\n",
    "from mcfa import (mcfa, mpl_utils)\n",
    "\n",
    "%matplotlib inline"
   ]
  },
  {
   "cell_type": "code",
   "execution_count": null,
   "metadata": {
    "collapsed": true
   },
   "outputs": [],
   "source": [
    "# Load the Iris data.\n",
    "X = load_iris().data"
   ]
  },
  {
   "cell_type": "code",
   "execution_count": null,
   "metadata": {},
   "outputs": [],
   "source": [
    "# Plot the data as a corner plot.\n",
    "fig = mpl_utils.corner_scatter(X, s=10, alpha=0.75, figsize=(10, 10))"
   ]
  },
  {
   "cell_type": "code",
   "execution_count": null,
   "metadata": {},
   "outputs": [],
   "source": [
    "model = mcfa.MCFA(n_components=3, n_latent_factors=3, verbose=1)\n",
    "model.fit(X)"
   ]
  },
  {
   "cell_type": "code",
   "execution_count": null,
   "metadata": {},
   "outputs": [],
   "source": [
    "for parameter_name, value in dict(zip(model.parameter_names, model.theta_)).items():\n",
    "    print(\"{}: {}\\n{}\".format(parameter_name, value.shape, value))"
   ]
  },
  {
   "cell_type": "code",
   "execution_count": null,
   "metadata": {},
   "outputs": [],
   "source": [
    "# Plot the estimated posterior factor scores.\n",
    "#fig = mpl_utils.corner_scatter(X, s=10, alpha=0.75, figsize=(10, 10))\n",
    "v, v_cluster, v_mean = model.factor_scores(X)\n",
    "\n",
    "# Associations\n",
    "hard_associations = np.argmax(model.tau_, axis=1)\n",
    "\n",
    "fig = mpl_utils.corner_scatter(v_mean, c=hard_associations, figsize=(10, 10), s=10)"
   ]
  },
  {
   "cell_type": "code",
   "execution_count": null,
   "metadata": {},
   "outputs": [],
   "source": [
    "fig = model.plot_latent_space(X, s=10, figsize=(10, 10))"
   ]
  },
  {
   "cell_type": "code",
   "execution_count": null,
   "metadata": {},
   "outputs": [],
   "source": [
    "# Plot the clustering in data space.\n",
    "fig = mpl_utils.corner_scatter(X, s=10, alpha=0.75, figsize=(10, 10), c=hard_associations)"
   ]
  },
  {
   "cell_type": "code",
   "execution_count": null,
   "metadata": {},
   "outputs": [],
   "source": [
    "# Plot the factor loads.\n",
    "A = model.theta_[model.parameter_names.index(\"A\")]\n",
    "fig, ax = plt.subplots()\n",
    "ax.scatter(A.T[0], A.T[1])\n",
    "model.theta_[1].shape\n"
   ]
  },
  {
   "cell_type": "code",
   "execution_count": null,
   "metadata": {},
   "outputs": [],
   "source": [
    "fig, ax = plt.subplots()\n",
    "for i in range(model.n_latent_factors):\n",
    "    ax.plot(A.T[i])\n",
    "\n",
    "psi = model.theta_[model.parameter_names.index(\"psi\")]\n",
    "ax.plot(psi, c=\"#666666\")"
   ]
  }
 ],
 "metadata": {
  "kernelspec": {
   "display_name": "Python 3",
   "language": "python",
   "name": "python3"
  },
  "language_info": {
   "codemirror_mode": {
    "name": "ipython",
    "version": 3
   },
   "file_extension": ".py",
   "mimetype": "text/x-python",
   "name": "python",
   "nbconvert_exporter": "python",
   "pygments_lexer": "ipython3",
   "version": "3.6.3"
  }
 },
 "nbformat": 4,
 "nbformat_minor": 2
}
